{
 "cells": [
  {
   "cell_type": "markdown",
   "id": "f50729b5-d325-4138-a5ab-3fea5f548d0c",
   "metadata": {},
   "source": [
    "# A. Data Prepration"
   ]
  },
  {
   "cell_type": "markdown",
   "id": "046f7831-48ec-41b3-8c77-4b4ed3320021",
   "metadata": {},
   "source": [
    "### A.1 import Libbary"
   ]
  },
  {
   "cell_type": "code",
   "execution_count": 551,
   "id": "a89f6a09-9c57-4cb7-a186-80c31e73cace",
   "metadata": {},
   "outputs": [],
   "source": [
    "import pandas as pd \n",
    "import numpy as np\n",
    "import seaborn as sns\n",
    "import matplotlib.pyplot as plt"
   ]
  },
  {
   "cell_type": "markdown",
   "id": "60e1f468-2968-44a1-a714-8a83723c3691",
   "metadata": {},
   "source": [
    "### A.2 Import Data"
   ]
  },
  {
   "cell_type": "code",
   "execution_count": 552,
   "id": "7614bfeb-9b7a-4398-9296-168c22b09877",
   "metadata": {},
   "outputs": [
    {
     "data": {
      "text/html": [
       "<div>\n",
       "<style scoped>\n",
       "    .dataframe tbody tr th:only-of-type {\n",
       "        vertical-align: middle;\n",
       "    }\n",
       "\n",
       "    .dataframe tbody tr th {\n",
       "        vertical-align: top;\n",
       "    }\n",
       "\n",
       "    .dataframe thead th {\n",
       "        text-align: right;\n",
       "    }\n",
       "</style>\n",
       "<table border=\"1\" class=\"dataframe\">\n",
       "  <thead>\n",
       "    <tr style=\"text-align: right;\">\n",
       "      <th></th>\n",
       "      <th>Kota</th>\n",
       "      <th>Umur</th>\n",
       "      <th>MasaKerja</th>\n",
       "      <th>Gaji</th>\n",
       "      <th>Bonus</th>\n",
       "    </tr>\n",
       "  </thead>\n",
       "  <tbody>\n",
       "    <tr>\n",
       "      <th>0</th>\n",
       "      <td>Surabaya</td>\n",
       "      <td>27.0</td>\n",
       "      <td>9</td>\n",
       "      <td>51000</td>\n",
       "      <td>Yes</td>\n",
       "    </tr>\n",
       "    <tr>\n",
       "      <th>1</th>\n",
       "      <td>Jakarta</td>\n",
       "      <td>29.0</td>\n",
       "      <td>9</td>\n",
       "      <td>48000</td>\n",
       "      <td>Yes</td>\n",
       "    </tr>\n",
       "    <tr>\n",
       "      <th>2</th>\n",
       "      <td>Surabaya</td>\n",
       "      <td>30.0</td>\n",
       "      <td>5</td>\n",
       "      <td>52000</td>\n",
       "      <td>No</td>\n",
       "    </tr>\n",
       "    <tr>\n",
       "      <th>3</th>\n",
       "      <td>Jakarta</td>\n",
       "      <td>25.0</td>\n",
       "      <td>5</td>\n",
       "      <td>66000</td>\n",
       "      <td>No</td>\n",
       "    </tr>\n",
       "    <tr>\n",
       "      <th>4</th>\n",
       "      <td>Kediri</td>\n",
       "      <td>48.0</td>\n",
       "      <td>10</td>\n",
       "      <td>68000</td>\n",
       "      <td>Yes</td>\n",
       "    </tr>\n",
       "  </tbody>\n",
       "</table>\n",
       "</div>"
      ],
      "text/plain": [
       "       Kota  Umur  MasaKerja   Gaji Bonus\n",
       "0  Surabaya  27.0          9  51000   Yes\n",
       "1   Jakarta  29.0          9  48000   Yes\n",
       "2  Surabaya  30.0          5  52000    No\n",
       "3   Jakarta  25.0          5  66000    No\n",
       "4    Kediri  48.0         10  68000   Yes"
      ]
     },
     "execution_count": 552,
     "metadata": {},
     "output_type": "execute_result"
    }
   ],
   "source": [
    "df = pd.read_csv('datapegawai2.csv')\n",
    "df.head()"
   ]
  },
  {
   "cell_type": "markdown",
   "id": "2c9394d5-1238-4929-8d44-411b040eaf1e",
   "metadata": {},
   "source": [
    "### A.3 Shape pada DataFrame"
   ]
  },
  {
   "cell_type": "code",
   "execution_count": 553,
   "id": "64167579-a2af-4491-b6f4-151a15ab8d99",
   "metadata": {},
   "outputs": [
    {
     "name": "stdout",
     "output_type": "stream",
     "text": [
      "Dimensi pada DataFrame : (23, 5)\n"
     ]
    }
   ],
   "source": [
    "print(f\"Dimensi pada DataFrame : {df.shape}\")"
   ]
  },
  {
   "cell_type": "markdown",
   "id": "06e1474b-945b-4d3a-b986-c47e2daeb733",
   "metadata": {},
   "source": [
    "# B. Data Preprocessing"
   ]
  },
  {
   "cell_type": "markdown",
   "id": "8a8e908f-ddeb-4a8e-926a-7b1b89c5548b",
   "metadata": {},
   "source": [
    "### B.1 Information pada DataFrame"
   ]
  },
  {
   "cell_type": "code",
   "execution_count": 554,
   "id": "a60ae084-09bb-4dcf-871c-27fb0997b379",
   "metadata": {},
   "outputs": [
    {
     "name": "stdout",
     "output_type": "stream",
     "text": [
      "<class 'pandas.core.frame.DataFrame'>\n",
      "RangeIndex: 23 entries, 0 to 22\n",
      "Data columns (total 5 columns):\n",
      " #   Column     Non-Null Count  Dtype  \n",
      "---  ------     --------------  -----  \n",
      " 0   Kota       23 non-null     object \n",
      " 1   Umur       23 non-null     float64\n",
      " 2   MasaKerja  23 non-null     int64  \n",
      " 3   Gaji       23 non-null     int64  \n",
      " 4   Bonus      23 non-null     object \n",
      "dtypes: float64(1), int64(2), object(2)\n",
      "memory usage: 1.0+ KB\n"
     ]
    }
   ],
   "source": [
    "df.info()"
   ]
  },
  {
   "cell_type": "markdown",
   "id": "2d95c0b9-291f-48e2-94a2-9d3577b63d03",
   "metadata": {},
   "source": [
    "### B.2 Jumlah nilai unik pada DataFrame"
   ]
  },
  {
   "cell_type": "code",
   "execution_count": 555,
   "id": "46bedb28-f680-49fc-9e97-15b2966d1aa2",
   "metadata": {},
   "outputs": [
    {
     "name": "stdout",
     "output_type": "stream",
     "text": [
      "Jumlah Nilai Unik pada DataFrame : \n",
      "Kota          4\n",
      "Umur         17\n",
      "MasaKerja     8\n",
      "Gaji         16\n",
      "Bonus         2\n",
      "dtype: int64\n"
     ]
    }
   ],
   "source": [
    "print(f\"Jumlah Nilai Unik pada DataFrame : \\n{df.nunique()}\")"
   ]
  },
  {
   "cell_type": "markdown",
   "id": "c98a3299-1473-4335-8961-a3d235da0955",
   "metadata": {},
   "source": [
    "### B.3 Nilai Unik Pada DataFrame"
   ]
  },
  {
   "cell_type": "code",
   "execution_count": 556,
   "id": "4bc3b571-aecc-45e5-b1a1-d8f79d0f4ca2",
   "metadata": {},
   "outputs": [
    {
     "name": "stdout",
     "output_type": "stream",
     "text": [
      "{'Kota': array(['Surabaya', 'Jakarta', 'Kediri', 'Malang'], dtype=object)}\n",
      "{'Umur': array([27. , 29. , 30. , 25. , 48. , 33. , 40. , 38. , 35. , 28. , 36.5,\n",
      "       31. , 37. , 12. , 95. , 50. , 41. ])}\n",
      "{'MasaKerja': array([ 9,  5, 10,  8, 12,  6, 11,  4], dtype=int64)}\n",
      "{'Gaji': array([51000, 48000, 52000, 66000, 68000, 69000, 79000, 38000, 56000,\n",
      "       72000, 85000, 49000, 50000, 86000, 75000, 70000], dtype=int64)}\n",
      "{'Bonus': array(['Yes', 'No'], dtype=object)}\n"
     ]
    }
   ],
   "source": [
    "for col in df:\n",
    "    print({col : df[col].unique()})"
   ]
  },
  {
   "cell_type": "markdown",
   "id": "1c8d676c-8df6-4b8c-993f-dc54183aa839",
   "metadata": {},
   "source": [
    "### B.4 Check sebarapa banyak dari yes dan no di dalam kolom Bonus"
   ]
  },
  {
   "cell_type": "code",
   "execution_count": 557,
   "id": "fb120b3b-3867-4d6b-8252-56372a6fdc38",
   "metadata": {},
   "outputs": [
    {
     "data": {
      "text/plain": [
       "Bonus\n",
       "No     13\n",
       "Yes    10\n",
       "Name: count, dtype: int64"
      ]
     },
     "execution_count": 557,
     "metadata": {},
     "output_type": "execute_result"
    }
   ],
   "source": [
    "df['Bonus'].value_counts()"
   ]
  },
  {
   "cell_type": "markdown",
   "id": "df9d0c45-06db-4442-b785-049a3e0dc5da",
   "metadata": {},
   "source": [
    "### B.5 Visualiasi untuk mengetahui berapa banyak yes dan no dalam kom Bonus"
   ]
  },
  {
   "cell_type": "code",
   "execution_count": 558,
   "id": "b4c01547-5ff6-4f21-bbee-8ce1f7b4f41a",
   "metadata": {},
   "outputs": [],
   "source": [
    "df_bonus = df['Bonus'].value_counts()"
   ]
  },
  {
   "cell_type": "code",
   "execution_count": 559,
   "id": "b6d768f2-a042-48f2-83c3-75ab4892dfc2",
   "metadata": {},
   "outputs": [
    {
     "data": {
      "image/png": "[encoded data removed]",
      "text/plain": [
       "<Figure size 640x480 with 1 Axes>"
      ]
     },
     "metadata": {},
     "output_type": "display_data"
    }
   ],
   "source": [
    "plt.bar(df_bonus.index, df_bonus, color=['pink', 'skyblue'])\n",
    "plt.xlabel(\"Bonus\")\n",
    "plt.ylabel(\"Frequenze\")\n",
    "plt.title(\"Yes vs. No\")\n",
    "plt.show()"
   ]
  },
  {
   "cell_type": "markdown",
   "id": "c5c90299-8f7e-48fe-afbb-e8b141c6fd81",
   "metadata": {},
   "source": [
    "### B.6 Visualisasikan Bar Char"
   ]
  },
  {
   "cell_type": "code",
   "execution_count": 560,
   "id": "b1248f2c-404c-47fb-aa70-819177a0d252",
   "metadata": {},
   "outputs": [
    {
     "data": {
      "image/png": "[encoded data removed]",
      "text/plain": [
       "<Figure size 640x480 with 1 Axes>"
      ]
     },
     "metadata": {},
     "output_type": "display_data"
    }
   ],
   "source": [
    "plt.pie(df_bonus.values, labels=df_bonus.index, autopct=\"%1.1f%%\", colors=['pink', 'skyblue'])\n",
    "plt.title(\"Visualisasikan Bonus Distribution\")\n",
    "plt.show()"
   ]
  },
  {
   "cell_type": "markdown",
   "id": "1c4229b6-b16c-491c-bba0-cb077bc98a5a",
   "metadata": {},
   "source": [
    "### B.7 Mengubah nilai pada Kolom Bonus yang numerik menjadi Numerik"
   ]
  },
  {
   "cell_type": "code",
   "execution_count": 561,
   "id": "bfb61277-2506-4caa-92d7-02b134027242",
   "metadata": {},
   "outputs": [],
   "source": [
    "df['Bonus'] = df['Bonus'].map({'No': 0, 'Yes' : 1})"
   ]
  },
  {
   "cell_type": "markdown",
   "id": "aec67237-6662-4851-b243-2c8029248e49",
   "metadata": {},
   "source": [
    "### B.8 Check Tipe data pada Kolom Bonus"
   ]
  },
  {
   "cell_type": "code",
   "execution_count": 562,
   "id": "8d7cda1e-2e89-4c7b-842f-90716a6067ca",
   "metadata": {},
   "outputs": [
    {
     "name": "stdout",
     "output_type": "stream",
     "text": [
      "Tipe Data pada Kolom Bonus : int64\n"
     ]
    }
   ],
   "source": [
    "print(f\"Tipe Data pada Kolom Bonus : {df['Bonus'].dtypes}\")"
   ]
  },
  {
   "cell_type": "markdown",
   "id": "1d80be67-3e86-4949-bba6-1839bee29f5c",
   "metadata": {},
   "source": [
    "### B.9 Check Data Duplicated Pada DataFrame"
   ]
  },
  {
   "cell_type": "code",
   "execution_count": 563,
   "id": "282fe2ae-4bfc-4514-8586-25660cdeb3a6",
   "metadata": {},
   "outputs": [
    {
     "name": "stdout",
     "output_type": "stream",
     "text": [
      "Check Data Duplicated pada DataFrame : 0\n"
     ]
    }
   ],
   "source": [
    "print(f\"Check Data Duplicated pada DataFrame : {df.duplicated().sum()}\")"
   ]
  },
  {
   "cell_type": "markdown",
   "id": "890c9270-bf5b-4417-884e-fa2afa6e049f",
   "metadata": {},
   "source": [
    "### B.10 Check Data Kosong "
   ]
  },
  {
   "cell_type": "code",
   "execution_count": 564,
   "id": "3b728ac6-c6a6-4aab-9017-4fd9874fce69",
   "metadata": {},
   "outputs": [
    {
     "name": "stdout",
     "output_type": "stream",
     "text": [
      "Check Data Kosong : \n",
      "Kota         0\n",
      "Umur         0\n",
      "MasaKerja    0\n",
      "Gaji         0\n",
      "Bonus        0\n",
      "dtype: int64\n"
     ]
    }
   ],
   "source": [
    "print(f\"Check Data Kosong : \\n{df.isnull().sum()}\")"
   ]
  },
  {
   "cell_type": "markdown",
   "id": "309194d4-8357-4a35-9333-7d9f392778e3",
   "metadata": {},
   "source": [
    "### B.11 Check Data Kosong Pada DataFrame"
   ]
  },
  {
   "cell_type": "code",
   "execution_count": 565,
   "id": "08944f59-a6c9-4840-99df-6c3b192f7311",
   "metadata": {},
   "outputs": [
    {
     "name": "stdout",
     "output_type": "stream",
     "text": [
      "Check Data Kosong : 0\n"
     ]
    }
   ],
   "source": [
    "print(f\"Check Data Kosong : {df.isnull().sum().sum()}\")"
   ]
  },
  {
   "cell_type": "markdown",
   "id": "cbb71552-f64f-4ea8-b041-51c11d3f5599",
   "metadata": {},
   "source": [
    "### B.12 Deskripsi DataFrame"
   ]
  },
  {
   "cell_type": "code",
   "execution_count": 566,
   "id": "d40b6bca-eae9-45cc-b72b-4b9b7caa766b",
   "metadata": {},
   "outputs": [
    {
     "data": {
      "text/html": [
       "<div>\n",
       "<style scoped>\n",
       "    .dataframe tbody tr th:only-of-type {\n",
       "        vertical-align: middle;\n",
       "    }\n",
       "\n",
       "    .dataframe tbody tr th {\n",
       "        vertical-align: top;\n",
       "    }\n",
       "\n",
       "    .dataframe thead th {\n",
       "        text-align: right;\n",
       "    }\n",
       "</style>\n",
       "<table border=\"1\" class=\"dataframe\">\n",
       "  <thead>\n",
       "    <tr style=\"text-align: right;\">\n",
       "      <th></th>\n",
       "      <th>Umur</th>\n",
       "      <th>MasaKerja</th>\n",
       "      <th>Gaji</th>\n",
       "      <th>Bonus</th>\n",
       "    </tr>\n",
       "  </thead>\n",
       "  <tbody>\n",
       "    <tr>\n",
       "      <th>count</th>\n",
       "      <td>23.000000</td>\n",
       "      <td>23.000000</td>\n",
       "      <td>23.000000</td>\n",
       "      <td>23.000000</td>\n",
       "    </tr>\n",
       "    <tr>\n",
       "      <th>mean</th>\n",
       "      <td>36.521739</td>\n",
       "      <td>7.913043</td>\n",
       "      <td>64565.217391</td>\n",
       "      <td>0.434783</td>\n",
       "    </tr>\n",
       "    <tr>\n",
       "      <th>std</th>\n",
       "      <td>14.959398</td>\n",
       "      <td>1.928566</td>\n",
       "      <td>12830.454137</td>\n",
       "      <td>0.506870</td>\n",
       "    </tr>\n",
       "    <tr>\n",
       "      <th>min</th>\n",
       "      <td>12.000000</td>\n",
       "      <td>4.000000</td>\n",
       "      <td>38000.000000</td>\n",
       "      <td>0.000000</td>\n",
       "    </tr>\n",
       "    <tr>\n",
       "      <th>25%</th>\n",
       "      <td>29.500000</td>\n",
       "      <td>7.000000</td>\n",
       "      <td>51500.000000</td>\n",
       "      <td>0.000000</td>\n",
       "    </tr>\n",
       "    <tr>\n",
       "      <th>50%</th>\n",
       "      <td>35.000000</td>\n",
       "      <td>8.000000</td>\n",
       "      <td>68000.000000</td>\n",
       "      <td>0.000000</td>\n",
       "    </tr>\n",
       "    <tr>\n",
       "      <th>75%</th>\n",
       "      <td>39.000000</td>\n",
       "      <td>9.000000</td>\n",
       "      <td>71000.000000</td>\n",
       "      <td>1.000000</td>\n",
       "    </tr>\n",
       "    <tr>\n",
       "      <th>max</th>\n",
       "      <td>95.000000</td>\n",
       "      <td>12.000000</td>\n",
       "      <td>86000.000000</td>\n",
       "      <td>1.000000</td>\n",
       "    </tr>\n",
       "  </tbody>\n",
       "</table>\n",
       "</div>"
      ],
      "text/plain": [
       "            Umur  MasaKerja          Gaji      Bonus\n",
       "count  23.000000  23.000000     23.000000  23.000000\n",
       "mean   36.521739   7.913043  64565.217391   0.434783\n",
       "std    14.959398   1.928566  12830.454137   0.506870\n",
       "min    12.000000   4.000000  38000.000000   0.000000\n",
       "25%    29.500000   7.000000  51500.000000   0.000000\n",
       "50%    35.000000   8.000000  68000.000000   0.000000\n",
       "75%    39.000000   9.000000  71000.000000   1.000000\n",
       "max    95.000000  12.000000  86000.000000   1.000000"
      ]
     },
     "execution_count": 566,
     "metadata": {},
     "output_type": "execute_result"
    }
   ],
   "source": [
    "df.describe()"
   ]
  },
  {
   "cell_type": "markdown",
   "id": "1d0abc7d-d4d5-4343-9198-5f589d5c43f5",
   "metadata": {},
   "source": [
    "### B.13 Visualisasi Check Outliers"
   ]
  },
  {
   "cell_type": "code",
   "execution_count": 567,
   "id": "8e5a0670-bff1-41b7-b2ad-48a532d43e78",
   "metadata": {},
   "outputs": [
    {
     "data": {
      "text/plain": [
       "<Axes: >"
      ]
     },
     "execution_count": 567,
     "metadata": {},
     "output_type": "execute_result"
    },
    {
     "data": {
      "image/png": "[encoded data removed]",
      "text/plain": [
       "<Figure size 640x480 with 1 Axes>"
      ]
     },
     "metadata": {},
     "output_type": "display_data"
    }
   ],
   "source": [
    "sns.boxplot(df)"
   ]
  },
  {
   "cell_type": "markdown",
   "id": "5355728e-e164-49ef-bedc-3ac1317617bf",
   "metadata": {},
   "source": [
    "### B.14 Visualisasi Pairplot"
   ]
  },
  {
   "cell_type": "code",
   "execution_count": 568,
   "id": "e61afaa2-5d48-45a7-b5fb-0f635d2357d0",
   "metadata": {},
   "outputs": [
    {
     "name": "stderr",
     "output_type": "stream",
     "text": [
      "C:\\Users\\BISMILLAH NAWAITU\\anaconda3\\Lib\\site-packages\\seaborn\\_oldcore.py:1119: FutureWarning: use_inf_as_na option is deprecated and will be removed in a future version. Convert inf values to NaN before operating instead.\n",
      "  with pd.option_context('mode.use_inf_as_na', True):\n",
      "C:\\Users\\BISMILLAH NAWAITU\\anaconda3\\Lib\\site-packages\\seaborn\\_oldcore.py:1119: FutureWarning: use_inf_as_na option is deprecated and will be removed in a future version. Convert inf values to NaN before operating instead.\n",
      "  with pd.option_context('mode.use_inf_as_na', True):\n",
      "C:\\Users\\BISMILLAH NAWAITU\\anaconda3\\Lib\\site-packages\\seaborn\\_oldcore.py:1119: FutureWarning: use_inf_as_na option is deprecated and will be removed in a future version. Convert inf values to NaN before operating instead.\n",
      "  with pd.option_context('mode.use_inf_as_na', True):\n"
     ]
    },
    {
     "data": {
      "text/plain": [
       "<seaborn.axisgrid.PairGrid at 0x1cb66e4d210>"
      ]
     },
     "execution_count": 568,
     "metadata": {},
     "output_type": "execute_result"
    },
    {
     "data": {
      "image/png": "[encoded data removed]",
      "text/plain": [
       "<Figure size 808.875x750 with 12 Axes>"
      ]
     },
     "metadata": {},
     "output_type": "display_data"
    }
   ],
   "source": [
    "sns.pairplot(data=df, hue='Bonus', palette='husl')"
   ]
  },
  {
   "cell_type": "code",
   "execution_count": 569,
   "id": "46f8dada-c941-4e61-bb9c-b5dc5e613f82",
   "metadata": {},
   "outputs": [],
   "source": [
    "# import pandas as pd\n",
    "\n",
    "# def detect_outliers(data, column):\n",
    "#     Q1 = data[column].quantile(0.25)  # First quartile (25%)\n",
    "#     Q3 = data[column].quantile(0.75)  # Third quartile (75%)\n",
    "#     IQR = Q3 - Q1  # Interquartile range\n",
    "\n",
    "#     # Define the lower and upper bounds\n",
    "#     lower_bound = Q1 - 1.5 * IQR\n",
    "#     upper_bound = Q3 + 1.5 * IQR\n",
    "\n",
    "#     # Check if any values are outside the bounds\n",
    "#     outliers = data[(data[column] < lower_bound) | (data[column] > upper_bound)]\n",
    "\n",
    "#     if outliers.empty:\n",
    "#         print(\"No outliers detected.\")\n",
    "#     else:\n",
    "#         print(f\"Outliers detected:\\n{outliers}\")\n",
    "\n",
    "#     return outliers\n"
   ]
  },
  {
   "cell_type": "code",
   "execution_count": 570,
   "id": "30ac0e76-42ac-43b9-96bb-6dc1750fccb1",
   "metadata": {},
   "outputs": [
    {
     "name": "stdout",
     "output_type": "stream",
     "text": [
      "Index(['Kota', 'Umur', 'MasaKerja', 'Gaji', 'Bonus'], dtype='object')\n"
     ]
    }
   ],
   "source": [
    "print(df.columns)"
   ]
  },
  {
   "cell_type": "code",
   "execution_count": 571,
   "id": "c8c0a1f9-25ee-45b2-8cf1-df21f6e728f0",
   "metadata": {},
   "outputs": [],
   "source": [
    "df = df[['Umur', 'MasaKerja', 'Gaji', 'Bonus']]"
   ]
  },
  {
   "cell_type": "markdown",
   "id": "8174acc0-ede0-4ee0-8f8d-227d9f6e9c49",
   "metadata": {},
   "source": [
    "# C. Pemodelan Data"
   ]
  },
  {
   "cell_type": "markdown",
   "id": "50423981-a8df-4699-862b-091e720aba72",
   "metadata": {},
   "source": [
    "### C.1 Pemilihan Target dan Fitur"
   ]
  },
  {
   "cell_type": "code",
   "execution_count": 572,
   "id": "4810ea0c-c597-445e-ac4d-5f46deeb6f17",
   "metadata": {},
   "outputs": [],
   "source": [
    "# data = np.array(df, dtype=float)"
   ]
  },
  {
   "cell_type": "code",
   "execution_count": 573,
   "id": "6399575c-690b-412d-8d6c-cda0863d8daf",
   "metadata": {},
   "outputs": [],
   "source": [
    "X = df.iloc[:, [0, 2]].values\n",
    "y = df.iloc[:, -1].values"
   ]
  },
  {
   "cell_type": "markdown",
   "id": "544f13b0-c65a-4dd1-b517-cc8f658e4762",
   "metadata": {},
   "source": [
    "### C.2 Featur Scalling data"
   ]
  },
  {
   "cell_type": "code",
   "execution_count": 574,
   "id": "141596b2-f396-4dd8-88b4-ff566e76c3b4",
   "metadata": {},
   "outputs": [],
   "source": [
    "# error ini di karena kan niali pada varibale X ada yang str\n",
    "X_min = X.min(axis=0)\n",
    "X_max = X.max(axis=0)\n",
    "X_scaled = (X - X_min) / (X_max - X_min)"
   ]
  },
  {
   "cell_type": "markdown",
   "id": "2e7505b7-1f6b-40a0-b7f7-90dc92827e30",
   "metadata": {},
   "source": [
    "### C.3 Split Data Training 80% dan Testing 20%"
   ]
  },
  {
   "cell_type": "code",
   "execution_count": 575,
   "id": "1e3fe526-64db-4d0a-bc4c-dc5affaabf17",
   "metadata": {},
   "outputs": [],
   "source": [
    "split_random = 0.8\n",
    "split_idx = int(len(X_scaled) * split_random)\n",
    "\n",
    "X_train, X_test = X_scaled[:split_idx], X_scaled[split_idx:]\n",
    "y_train, y_test = y[:split_idx].astype(int), y[split_idx:].astype(int)"
   ]
  },
  {
   "cell_type": "code",
   "execution_count": 576,
   "id": "1356283d-b998-4775-a192-dcb7dbaa010c",
   "metadata": {},
   "outputs": [
    {
     "name": "stdout",
     "output_type": "stream",
     "text": [
      "Hasil Data Training : (18, 2), (18,)\n"
     ]
    }
   ],
   "source": [
    "print(f\"Hasil Data Training : {X_train.shape}, {y_train.shape}\")"
   ]
  },
  {
   "cell_type": "code",
   "execution_count": 577,
   "id": "d66cb236-bab8-4570-8c62-62b4b05bb928",
   "metadata": {},
   "outputs": [
    {
     "name": "stdout",
     "output_type": "stream",
     "text": [
      "Hasil Data Testing : (5, 2), (5,)\n"
     ]
    }
   ],
   "source": [
    "print(f\"Hasil Data Testing : {X_test.shape}, {y_test.shape}\")"
   ]
  },
  {
   "cell_type": "markdown",
   "id": "cb7019ec-ee7b-463e-ba98-ea28cd37ad6f",
   "metadata": {},
   "source": [
    "### C.4 Class SVM"
   ]
  },
  {
   "cell_type": "code",
   "execution_count": 578,
   "id": "99494af5-de9d-4ab1-933f-1110609c780a",
   "metadata": {},
   "outputs": [],
   "source": [
    "class SVM:\n",
    "    def __init__(self, learning_rate=0.001, n_iter=1000, lambda_param=0.01):\n",
    "        self.learning_rate = learning_rate\n",
    "        self.n_iter = n_iter\n",
    "        self.lambda_param = lambda_param\n",
    "        self.weights = None\n",
    "        self.bias = 0\n",
    "\n",
    "    def fit(self, X, y):\n",
    "        n_sample, n_features = X.shape\n",
    "        self.weights = np.zeros(n_features)\n",
    "\n",
    "        # Training SVM\n",
    "        for _ in range(self.n_iter):\n",
    "            for idx, x_i in enumerate(X):\n",
    "                condition = y[idx] * (np.dot(x_i, self.weights) + self.bias) >= 1\n",
    "                if condition:\n",
    "                    # self.weights -= self.learning_rate * (2 * self.lambda_param * self.weights)\n",
    "                    self.weights -= self.learning_rate * (2 * self.lambda_param * self.weights - np.dot(x_i, y[idx]))\n",
    "                else:\n",
    "                    self.weights -= self.learning_rate * (2 * self.lambda_param * self.weights - np.dot(x_i, y[idx]))\n",
    "                    self.bias -= self.learning_rate * y[idx]\n",
    "                    \n",
    "    def predict(self, X):\n",
    "        # return np.sign(np.dot(X, self.weights) + self.bias)\n",
    "        linear_output = np.dot(X, self.weights) + self.bias\n",
    "        return np.where(linear_output >= 0, 1, -1)"
   ]
  },
  {
   "cell_type": "markdown",
   "id": "7039fbd3-a2a1-4fc9-ba80-978a6a73e5c2",
   "metadata": {},
   "source": [
    "### C.5 Training SVM model"
   ]
  },
  {
   "cell_type": "code",
   "execution_count": 579,
   "id": "845b58c4-456d-4f2e-b004-bc1eecc9733c",
   "metadata": {},
   "outputs": [],
   "source": [
    "svm = SVM()\n",
    "svm.fit(X_train,y_train)"
   ]
  },
  {
   "cell_type": "markdown",
   "id": "ca875238-116f-4a9d-94ee-01db725bd047",
   "metadata": {},
   "source": [
    "### C.6 Prediksi pada data"
   ]
  },
  {
   "cell_type": "code",
   "execution_count": 580,
   "id": "686e6ff2-c086-4717-b7c2-78283684dac7",
   "metadata": {},
   "outputs": [],
   "source": [
    " y_pred = svm.predict(X_test) #di perbaikia\n",
    "# y_pred = svm.predict(X_test)[:len(y_test)]"
   ]
  },
  {
   "cell_type": "code",
   "execution_count": 581,
   "id": "fcc66704-8c67-462b-a833-ef22c894d46e",
   "metadata": {},
   "outputs": [
    {
     "data": {
      "text/plain": [
       "(5,)"
      ]
     },
     "execution_count": 581,
     "metadata": {},
     "output_type": "execute_result"
    }
   ],
   "source": [
    "y_pred.shape"
   ]
  },
  {
   "cell_type": "markdown",
   "id": "da575979-0fbc-464c-aea1-b02a4598492c",
   "metadata": {},
   "source": [
    "### C.7 Mean Squared (MSE)"
   ]
  },
  {
   "cell_type": "code",
   "execution_count": 582,
   "id": "35b96783-44dd-4cdc-8403-dd9e1ce9f6cd",
   "metadata": {},
   "outputs": [
    {
     "data": {
      "text/plain": [
       "2.8"
      ]
     },
     "execution_count": 582,
     "metadata": {},
     "output_type": "execute_result"
    }
   ],
   "source": [
    "mse = np.mean((y_pred - y_test) ** 2)\n",
    "mse"
   ]
  },
  {
   "cell_type": "code",
   "execution_count": 583,
   "id": "6f831b0a-f23b-4454-9803-6508167e44a9",
   "metadata": {},
   "outputs": [
    {
     "data": {
      "text/plain": [
       "1.6"
      ]
     },
     "execution_count": 583,
     "metadata": {},
     "output_type": "execute_result"
    }
   ],
   "source": [
    "mae = np.mean(np.abs(y_pred - y_test))\n",
    "mae"
   ]
  },
  {
   "cell_type": "code",
   "execution_count": 584,
   "id": "0440dcf6-4280-4ab3-8b57-48be9aa5c821",
   "metadata": {},
   "outputs": [
    {
     "data": {
      "text/plain": [
       "0.0"
      ]
     },
     "execution_count": 584,
     "metadata": {},
     "output_type": "execute_result"
    }
   ],
   "source": [
    "akurasi = np.mean(y_pred == y_test)\n",
    "akurasi"
   ]
  },
  {
   "cell_type": "code",
   "execution_count": 585,
   "id": "44c22a23-d42d-4346-b9e2-e7df3ca1fe87",
   "metadata": {},
   "outputs": [
    {
     "name": "stdout",
     "output_type": "stream",
     "text": [
      "Prediksi [-1 -1 -1 -1 -1]\n"
     ]
    }
   ],
   "source": [
    "print(\"Prediksi\", y_pred)"
   ]
  },
  {
   "cell_type": "code",
   "execution_count": 586,
   "id": "4e9f8741-a15e-48f3-b107-f3da35ded479",
   "metadata": {},
   "outputs": [
    {
     "name": "stdout",
     "output_type": "stream",
     "text": [
      "Akurasi [1 0 1 1 0]\n"
     ]
    }
   ],
   "source": [
    "print(\"Akurasi\", y_test)"
   ]
  },
  {
   "cell_type": "code",
   "execution_count": 594,
   "id": "edf0774f-5a01-4063-993d-52cd28ab5f49",
   "metadata": {},
   "outputs": [
    {
     "data": {
      "image/png": "[encoded data removed]",
      "text/plain": [
       "<Figure size 640x480 with 1 Axes>"
      ]
     },
     "metadata": {},
     "output_type": "display_data"
    }
   ],
   "source": [
    "# Visualiasi\n",
    "plt.scatter(X_train[y_train == 0, 0], X_train[y_train == 0, 1], label='Kategori 0')\n",
    "plt.scatter(X_train[y_train == 1, 0], X_train[y_train == 1, 1], label='Kategori 0')\n",
    "\n",
    "x = np.linspace(np.min(X_train[:, 0]), np.max(X_train[:, 0]), 100)\n",
    "# menghitung garis hyperlane\n",
    "hyperlane = -(svm.weights[0] * x + svm.bias) / svm.weights[1]\n",
    "\n",
    "# plot garis hypelane\n",
    "plt.plot(x, hyperlane, label='Desicons Boundary')\n",
    "\n",
    "plt.legend()\n",
    "plt.show()"
   ]
  },
  {
   "cell_type": "code",
   "execution_count": null,
   "id": "7b984794-c7db-4ba6-af7f-8e8afce11177",
   "metadata": {},
   "outputs": [],
   "source": []
  }
 ],
 "metadata": {
  "kernelspec": {
   "display_name": "Python 3 (ipykernel)",
   "language": "python",
   "name": "python3"
  },
  "language_info": {
   "codemirror_mode": {
    "name": "ipython",
    "version": 3
   },
   "file_extension": ".py",
   "mimetype": "text/x-python",
   "name": "python",
   "nbconvert_exporter": "python",
   "pygments_lexer": "ipython3",
   "version": "3.11.7"
  }
 },
 "nbformat": 4,
 "nbformat_minor": 5
}
